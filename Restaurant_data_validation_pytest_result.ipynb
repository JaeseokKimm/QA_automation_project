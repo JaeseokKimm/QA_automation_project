{
 "cells": [
  {
   "cell_type": "markdown",
   "id": "d8ba7338",
   "metadata": {},
   "source": [
    "# Data Validation & Pytest Results  \n",
    "\n",
    "## Overview  \n",
    "This Jupyter Notebook documents the **data validation process and automated test results** for restaurant data.  \n",
    "It includes:  \n",
    "- Dataset validation using `validate_data.py`  \n",
    "- Automated tests using `pytest` (`test_validation.py`)  \n",
    "- Results of both validation and testing processes  \n",
    "\n",
    "## Purpose  \n",
    "- Ensures that the dataset meets expected quality standards  \n",
    "- Confirms that automated tests correctly detect errors  \n",
    "- Demonstrates how `pytest` validates structured data  \n",
    "\n",
    "This notebook serves as a **summary of the validation and testing workflow**.  \n"
   ]
  },
  {
   "cell_type": "code",
   "execution_count": 1,
   "id": "d216ebf5",
   "metadata": {},
   "outputs": [
    {
     "name": "stdout",
     "output_type": "stream",
     "text": [
      "data is vaild\n"
     ]
    }
   ],
   "source": [
    "!python validate_data.py"
   ]
  },
  {
   "cell_type": "code",
   "execution_count": 2,
   "id": "077cf119",
   "metadata": {},
   "outputs": [
    {
     "name": "stdout",
     "output_type": "stream",
     "text": [
      "\u001b[1m============================= test session starts =============================\u001b[0m\n",
      "platform win32 -- Python 3.11.5, pytest-7.4.0, pluggy-1.0.0\n",
      "rootdir: C:\\Users\\jaeki\\OneDrive\\바탕 화면\\데이터\\2025_coding_project\n",
      "plugins: anyio-3.5.0\n",
      "collected 3 items\n",
      "\n",
      "test_validation.py \u001b[32m.\u001b[0m\u001b[32m.\u001b[0m\u001b[31mF\u001b[0m\u001b[31m                                                   [100%]\u001b[0m\n",
      "\n",
      "================================== FAILURES ===================================\n",
      "\u001b[31m\u001b[1m_________________________________ test_dirnk __________________________________\u001b[0m\n",
      "\n",
      "    \u001b[94mdef\u001b[39;49;00m \u001b[92mtest_dirnk\u001b[39;49;00m():\u001b[90m\u001b[39;49;00m\n",
      ">       \u001b[94massert\u001b[39;49;00m (df[\u001b[33m'\u001b[39;49;00m\u001b[33mDrink\u001b[39;49;00m\u001b[33m'\u001b[39;49;00m].isin({\u001b[33m\"\u001b[39;49;00m\u001b[33mYest\u001b[39;49;00m\u001b[33m\"\u001b[39;49;00m, \u001b[33m\"\u001b[39;49;00m\u001b[33mNo\u001b[39;49;00m\u001b[33m\"\u001b[39;49;00m})).all(), \u001b[33m\"\u001b[39;49;00m\u001b[33mDetected invaild value in Drink column\u001b[39;49;00m\u001b[33m\"\u001b[39;49;00m\u001b[90m\u001b[39;49;00m\n",
      "\u001b[1m\u001b[31mE       AssertionError: Detected invaild value in Drink column\u001b[0m\n",
      "\u001b[1m\u001b[31mE       assert False\u001b[0m\n",
      "\u001b[1m\u001b[31mE        +  where False = <bound method NDFrame._add_numeric_operations.<locals>.all of 0      False\\n1       True\\n2       True\\n3       True\\n4   ...ue\\n       ...  \\n233    False\\n234    False\\n235     True\\n236     True\\n237     True\\nName: Drink, Length: 238, dtype: bool>()\u001b[0m\n",
      "\u001b[1m\u001b[31mE        +    where <bound method NDFrame._add_numeric_operations.<locals>.all of 0      False\\n1       True\\n2       True\\n3       True\\n4   ...ue\\n       ...  \\n233    False\\n234    False\\n235     True\\n236     True\\n237     True\\nName: Drink, Length: 238, dtype: bool> = 0      False\\n1       True\\n2       True\\n3       True\\n4       True\\n       ...  \\n233    False\\n234    False\\n235     True\\n236     True\\n237     True\\nName: Drink, Length: 238, dtype: bool.all\u001b[0m\n",
      "\u001b[1m\u001b[31mE        +      where 0      False\\n1       True\\n2       True\\n3       True\\n4       True\\n       ...  \\n233    False\\n234    False\\n235     True\\n236     True\\n237     True\\nName: Drink, Length: 238, dtype: bool = <bound method Series.isin of 0      Yes\\n1       No\\n2       No\\n3       No\\n4       No\\n      ... \\n233    Yes\\n234    Yes\\n235     No\\n236     No\\n237     No\\nName: Drink, Length: 238, dtype: object>({'No', 'Yest'})\u001b[0m\n",
      "\u001b[1m\u001b[31mE        +        where <bound method Series.isin of 0      Yes\\n1       No\\n2       No\\n3       No\\n4       No\\n      ... \\n233    Yes\\n234    Yes\\n235     No\\n236     No\\n237     No\\nName: Drink, Length: 238, dtype: object> = 0      Yes\\n1       No\\n2       No\\n3       No\\n4       No\\n      ... \\n233    Yes\\n234    Yes\\n235     No\\n236     No\\n237     No\\nName: Drink, Length: 238, dtype: object.isin\u001b[0m\n",
      "\n",
      "\u001b[1m\u001b[31mtest_validation.py\u001b[0m:48: AssertionError\n",
      "\u001b[36m\u001b[1m=========================== short test summary info ===========================\u001b[0m\n",
      "\u001b[31mFAILED\u001b[0m test_validation.py::\u001b[1mtest_dirnk\u001b[0m - AssertionError: Detected invaild value in Drink column\n",
      "\u001b[31m========================= \u001b[31m\u001b[1m1 failed\u001b[0m, \u001b[32m2 passed\u001b[0m\u001b[31m in 1.26s\u001b[0m\u001b[31m =========================\u001b[0m\n"
     ]
    }
   ],
   "source": [
    "!pytest test_validation.py"
   ]
  },
  {
   "cell_type": "markdown",
   "id": "07ffd2ee",
   "metadata": {},
   "source": [
    "Found error from code \"def test_dirnk():\n",
    "    assert (df['Drink'].isin({\"Yest\", \"No\"})).all(), \"Detected invaild value in Drink column\"\".\n",
    "    \n",
    "   fix \"Yest\" to \"Yes\""
   ]
  },
  {
   "cell_type": "markdown",
   "id": "ec31c47a",
   "metadata": {},
   "source": [
    "rerunning the code"
   ]
  },
  {
   "cell_type": "code",
   "execution_count": 3,
   "id": "1f178494",
   "metadata": {},
   "outputs": [
    {
     "name": "stdout",
     "output_type": "stream",
     "text": [
      "\u001b[1m============================= test session starts =============================\u001b[0m\n",
      "platform win32 -- Python 3.11.5, pytest-7.4.0, pluggy-1.0.0\n",
      "rootdir: C:\\Users\\jaeki\\OneDrive\\바탕 화면\\데이터\\2025_coding_project\n",
      "plugins: anyio-3.5.0\n",
      "collected 3 items\n",
      "\n",
      "test_validation.py \u001b[32m.\u001b[0m\u001b[32m.\u001b[0m\u001b[32m.\u001b[0m\u001b[32m                                                   [100%]\u001b[0m\n",
      "\n",
      "\u001b[32m============================== \u001b[32m\u001b[1m3 passed\u001b[0m\u001b[32m in 0.84s\u001b[0m\u001b[32m ==============================\u001b[0m\n"
     ]
    }
   ],
   "source": [
    "!pytest test_validation.py"
   ]
  },
  {
   "cell_type": "code",
   "execution_count": null,
   "id": "91cc1c59",
   "metadata": {},
   "outputs": [],
   "source": []
  }
 ],
 "metadata": {
  "kernelspec": {
   "display_name": "Python 3 (ipykernel)",
   "language": "python",
   "name": "python3"
  },
  "language_info": {
   "codemirror_mode": {
    "name": "ipython",
    "version": 3
   },
   "file_extension": ".py",
   "mimetype": "text/x-python",
   "name": "python",
   "nbconvert_exporter": "python",
   "pygments_lexer": "ipython3",
   "version": "3.11.5"
  }
 },
 "nbformat": 4,
 "nbformat_minor": 5
}
