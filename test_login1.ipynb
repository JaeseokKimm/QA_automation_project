{
 "cells": [
  {
   "cell_type": "markdown",
   "id": "f7f56360",
   "metadata": {},
   "source": [
    "# Selenium Automated Login Test with Pytest  \n",
    "\n",
    "This script automates the login functionality testing for the website \"Practical Test Automation\"  \n",
    "It uses Selenium WebDriver and Pytest to verify:  \n",
    "\n",
    "**Successful login with valid credentials**  \n",
    "**Failed login attempt with an incorrect password**  \n",
    "\n",
    "The test script automatically:  \n",
    "1. Opens the login page  \n",
    "2. Enters valid or invalid credentials  \n",
    "3. Clicks the login button  \n",
    "4. Verifies if the login was successful or if the correct error message appears  \n",
    "\n"
   ]
  },
  {
   "cell_type": "code",
   "execution_count": 1,
   "id": "668e5154",
   "metadata": {},
   "outputs": [],
   "source": [
    "from selenium import webdriver\n",
    "from selenium.webdriver.common.by import By\n",
    "from selenium.webdriver.chrome.service import Service\n",
    "from webdriver_manager.chrome import ChromeDriverManager\n",
    "import pytest\n",
    "import time\n",
    "\n",
    "#Selenium WebDriver setup (automatically downloads ChromeDriver)\n",
    "@pytest.fixture\n",
    "def driver():\n",
    "    service = Service(ChromeDriverManager().install())\n",
    "    driver = webdriver.Chrome(service=service)\n",
    "    yield driver\n",
    "    driver.quit()  # Close the browser after the test finishes\n",
    "\n",
    "# 1. Test for successful login\n",
    "def test_login_success(driver):\n",
    "    driver.get(\"https://practicetestautomation.com/practice-test-login/\")\n",
    "    \n",
    "    # Locate input fields & enter login credentials\n",
    "    driver.find_element(By.ID, \"username\").send_keys(\"student\")\n",
    "    driver.find_element(By.ID, \"password\").send_keys(\"Password123\")\n",
    "    \n",
    "    # Click the login button\n",
    "    driver.find_element(By.ID, \"submit\").click()\n",
    "    \n",
    "    time.sleep(2)  # Wait for the page to load\n",
    "    \n",
    "    # Verify successful login message (QA test validation)\n",
    "    assert \"Logged In Successfully\" in driver.page_source, \"Login failed!\"\n",
    "\n",
    "# 2. Test for failed login (invalid password)\n",
    "def test_login_fail(driver):\n",
    "    driver.get(\"https://practicetestautomation.com/practice-test-login/\")\n",
    "    \n",
    "    # Locate input fields & enter incorrect login credentials\n",
    "    driver.find_element(By.ID, \"username\").send_keys(\"student\")\n",
    "    driver.find_element(By.ID, \"password\").send_keys(\"WrongPassword\")\n",
    "    \n",
    "    # Click the login button\n",
    "    driver.find_element(By.ID, \"submit\").click()\n",
    "    \n",
    "    time.sleep(2)  # Wait for the page to load\n",
    "    \n",
    "    # Verify if the correct error message appears (QA test validation)\n",
    "    assert \"Your password is invalid!\" in driver.page_source, \"Error message not displayed!\"\n"
   ]
  },
  {
   "cell_type": "markdown",
   "id": "22696408",
   "metadata": {},
   "source": [
    "# How to Run the Tests\n",
    "1. Save this script as test_login.py\n",
    "2. Open the terminal or command prompt\n",
    "3. Navigate to the script's directory\n",
    "4. Run the following command: \"pytest test_login1.py\"\n",
    "\n",
    "If the login test passes, the script confirms success\n",
    "If the login test fails, it raises an assertion error"
   ]
  },
  {
   "cell_type": "code",
   "execution_count": null,
   "id": "b3c95e43",
   "metadata": {},
   "outputs": [],
   "source": []
  }
 ],
 "metadata": {
  "kernelspec": {
   "display_name": "Python 3 (ipykernel)",
   "language": "python",
   "name": "python3"
  },
  "language_info": {
   "codemirror_mode": {
    "name": "ipython",
    "version": 3
   },
   "file_extension": ".py",
   "mimetype": "text/x-python",
   "name": "python",
   "nbconvert_exporter": "python",
   "pygments_lexer": "ipython3",
   "version": "3.11.5"
  }
 },
 "nbformat": 4,
 "nbformat_minor": 5
}
